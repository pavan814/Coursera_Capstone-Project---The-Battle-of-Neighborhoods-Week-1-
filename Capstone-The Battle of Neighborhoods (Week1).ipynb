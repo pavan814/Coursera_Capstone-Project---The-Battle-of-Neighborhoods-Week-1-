{
    "cells": [
        {
            "cell_type": "markdown",
            "metadata": {
                "collapsed": true
            },
            "source": "##   1. Description of the Problem and Discussion of the Background (Introduction Section)"
        },
        {
            "cell_type": "markdown",
            "metadata": {},
            "source": "### Prospect of opening a Gym in toronto, canda"
        },
        {
            "cell_type": "markdown",
            "metadata": {},
            "source": " #### Toronto, the capital of the province of Ontario, is the most populous Canadian city. As per 2016 census, 15-50 years aged population constitues of approximately 49% of total population of toronto.while using general assumtion that this age group's consider going to gym relatively more it is one of best place to start a gym in toronto. \n #### In this project  we analyze each neighborhood in toronto to identify the profitable area and  we will go through the process to make a decision where to open a gym.\n "
        },
        {
            "cell_type": "markdown",
            "metadata": {},
            "source": "## 2. Data acquisition and cleaning"
        },
        {
            "cell_type": "markdown",
            "metadata": {},
            "source": " ### 2.1 Data sources"
        },
        {
            "cell_type": "markdown",
            "metadata": {},
            "source": "####  2.1.1) https://en.wikipedia.org/wiki/List_of_postal_codes_of_Canada:_M - this  wiki page contains information about the neighborhoods present in Toronto. This page has the postal code, borough & the name of all the neighborhoods present in Toronto.\n\n#### 2.1.2) \u201chttps://cocl.us/Geospatial_data\u201d csv file to get all the geographical coordinates of the neighborhoods.\n\n#### 2.1.3 ) Location  (latitude and longitude) and other information about various venues in Toronto  (https://developer.foursquare.com/docs), Following information collected from this API ,-  Name, category, Latitude, Longitude\n"
        },
        {
            "cell_type": "code",
            "execution_count": null,
            "metadata": {},
            "outputs": [],
            "source": ""
        },
        {
            "cell_type": "code",
            "execution_count": null,
            "metadata": {},
            "outputs": [],
            "source": ""
        },
        {
            "cell_type": "code",
            "execution_count": null,
            "metadata": {},
            "outputs": [],
            "source": ""
        },
        {
            "cell_type": "code",
            "execution_count": null,
            "metadata": {},
            "outputs": [],
            "source": ""
        },
        {
            "cell_type": "code",
            "execution_count": null,
            "metadata": {},
            "outputs": [],
            "source": ""
        }
    ],
    "metadata": {
        "kernelspec": {
            "display_name": "Python 3.6",
            "language": "python",
            "name": "python3"
        },
        "language_info": {
            "codemirror_mode": {
                "name": "ipython",
                "version": 3
            },
            "file_extension": ".py",
            "mimetype": "text/x-python",
            "name": "python",
            "nbconvert_exporter": "python",
            "pygments_lexer": "ipython3",
            "version": "3.6.9"
        }
    },
    "nbformat": 4,
    "nbformat_minor": 1
}